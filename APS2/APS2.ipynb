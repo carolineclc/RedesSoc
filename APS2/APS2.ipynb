{
 "cells": [
  {
   "cell_type": "code",
   "execution_count": 76,
   "id": "9cd1d418-db57-4030-b796-96759291edad",
   "metadata": {
    "execution": {
     "iopub.execute_input": "2023-09-20T18:46:24.346252Z",
     "iopub.status.busy": "2023-09-20T18:46:24.345615Z",
     "iopub.status.idle": "2023-09-20T18:46:24.350202Z",
     "shell.execute_reply": "2023-09-20T18:46:24.349366Z",
     "shell.execute_reply.started": "2023-09-20T18:46:24.346232Z"
    }
   },
   "outputs": [],
   "source": [
    "import graph_tool_extras as gte\n",
    "import netpixi\n",
    "from graph_tool import draw\n",
    "import distribution as dst\n",
    "import matplotlib.pyplot as plt\n"
   ]
  },
  {
   "cell_type": "code",
   "execution_count": 53,
   "id": "8d72cb02-1748-40bd-99ee-01330aeae422",
   "metadata": {
    "execution": {
     "iopub.execute_input": "2023-09-20T18:30:51.408324Z",
     "iopub.status.busy": "2023-09-20T18:30:51.408054Z",
     "iopub.status.idle": "2023-09-20T18:30:51.412041Z",
     "shell.execute_reply": "2023-09-20T18:30:51.411342Z",
     "shell.execute_reply.started": "2023-09-20T18:30:51.408308Z"
    }
   },
   "outputs": [],
   "source": [
    "PATH = './archive/hero-network.csv'"
   ]
  },
  {
   "cell_type": "code",
   "execution_count": 54,
   "id": "b238c261-df0e-47f1-ad51-bfd48606e5bc",
   "metadata": {
    "execution": {
     "iopub.execute_input": "2023-09-20T18:30:51.590262Z",
     "iopub.status.busy": "2023-09-20T18:30:51.589800Z",
     "iopub.status.idle": "2023-09-20T18:30:51.594315Z",
     "shell.execute_reply": "2023-09-20T18:30:51.593600Z",
     "shell.execute_reply.started": "2023-09-20T18:30:51.590238Z"
    }
   },
   "outputs": [],
   "source": [
    "def get_or_add_vertex(g, id):\n",
    "    u = g.vertex_by_id(id)\n",
    "    if u is None:\n",
    "        g.add_vertex_by_id(id)\n"
   ]
  },
  {
   "cell_type": "code",
   "execution_count": 55,
   "id": "0da503b2-8476-4cd1-bbd7-1797c6e557ff",
   "metadata": {
    "execution": {
     "iopub.execute_input": "2023-09-20T18:30:51.763945Z",
     "iopub.status.busy": "2023-09-20T18:30:51.763714Z",
     "iopub.status.idle": "2023-09-20T18:31:01.427220Z",
     "shell.execute_reply": "2023-09-20T18:31:01.426427Z",
     "shell.execute_reply.started": "2023-09-20T18:30:51.763929Z"
    }
   },
   "outputs": [],
   "source": [
    "with open(PATH) as file:\n",
    "    g = gte.Graph(directed=False)\n",
    "  \n",
    "    next(file)\n",
    "\n",
    "    for line in file:\n",
    "\n",
    "\n",
    "        parts = line.split('\",\"')\n",
    "        parts[0] = parts[0][1:]\n",
    "        parts[1] = parts[1][:-2]\n",
    "\n",
    "        get_or_add_vertex(g,parts[0])\n",
    "        get_or_add_vertex(g,parts[1])\n",
    "\n",
    "        g.add_edge_by_ids(parts[0], parts[1])\n",
    "\n",
    "\n",
    "\n"
   ]
  },
  {
   "cell_type": "code",
   "execution_count": 56,
   "id": "957c90b2-2938-4c40-a761-28c320f92cdd",
   "metadata": {
    "execution": {
     "iopub.execute_input": "2023-09-20T18:31:01.428511Z",
     "iopub.status.busy": "2023-09-20T18:31:01.428337Z",
     "iopub.status.idle": "2023-09-20T18:31:18.140005Z",
     "shell.execute_reply": "2023-09-20T18:31:18.139382Z",
     "shell.execute_reply.started": "2023-09-20T18:31:01.428497Z"
    }
   },
   "outputs": [],
   "source": [
    "gte.save(g, 'g.net.gz')"
   ]
  },
  {
   "cell_type": "code",
   "execution_count": 57,
   "id": "403ee31f-0a04-448d-8d8e-e25992e003c0",
   "metadata": {
    "execution": {
     "iopub.execute_input": "2023-09-20T18:31:18.141429Z",
     "iopub.status.busy": "2023-09-20T18:31:18.140758Z",
     "iopub.status.idle": "2023-09-20T18:31:33.559743Z",
     "shell.execute_reply": "2023-09-20T18:31:33.559013Z",
     "shell.execute_reply.started": "2023-09-20T18:31:18.141413Z"
    }
   },
   "outputs": [],
   "source": [
    "layout = draw.sfdp_layout(g)"
   ]
  },
  {
   "cell_type": "code",
   "execution_count": 58,
   "id": "0f3208d2-6670-4343-ae24-ce77865334bb",
   "metadata": {
    "execution": {
     "iopub.execute_input": "2023-09-20T18:31:33.562170Z",
     "iopub.status.busy": "2023-09-20T18:31:33.561559Z",
     "iopub.status.idle": "2023-09-20T18:31:33.623818Z",
     "shell.execute_reply": "2023-09-20T18:31:33.622516Z",
     "shell.execute_reply.started": "2023-09-20T18:31:33.562151Z"
    }
   },
   "outputs": [],
   "source": [
    "g = gte.clean(g)"
   ]
  },
  {
   "cell_type": "code",
   "execution_count": 59,
   "id": "59c8bae6-f315-4f13-9465-eb179c513fc2",
   "metadata": {
    "execution": {
     "iopub.execute_input": "2023-09-20T18:31:33.625631Z",
     "iopub.status.busy": "2023-09-20T18:31:33.625434Z",
     "iopub.status.idle": "2023-09-20T18:31:50.626030Z",
     "shell.execute_reply": "2023-09-20T18:31:50.625384Z",
     "shell.execute_reply.started": "2023-09-20T18:31:33.625615Z"
    }
   },
   "outputs": [],
   "source": [
    "gte.move(g, layout)\n",
    "gte.save(g, 'g.net.gz')"
   ]
  },
  {
   "cell_type": "code",
   "execution_count": 60,
   "id": "38ffec1e-1c02-4d6c-bc7a-97b97d163dc2",
   "metadata": {
    "execution": {
     "iopub.execute_input": "2023-09-20T18:31:55.818989Z",
     "iopub.status.busy": "2023-09-20T18:31:55.818764Z",
     "iopub.status.idle": "2023-09-20T18:31:55.826093Z",
     "shell.execute_reply": "2023-09-20T18:31:55.825314Z",
     "shell.execute_reply.started": "2023-09-20T18:31:55.818975Z"
    },
    "scrolled": true
   },
   "outputs": [
    {
     "data": {
      "text/html": [
       "\n",
       "        <div id=\"ig5QEvbCZbWR2gxF9RxmEG\"></div>\n",
       "        <script>netpixi.render('ig5QEvbCZbWR2gxF9RxmEG', '/static/__shared__/APS2/g.net.gz', 1.7777777777777777, true, true, false, true);</script>\n",
       "    "
      ],
      "text/plain": [
       "<IPython.core.display.HTML object>"
      ]
     },
     "metadata": {},
     "output_type": "display_data"
    }
   ],
   "source": [
    "r = netpixi.render('g.net.gz', infinite=True)\n"
   ]
  },
  {
   "cell_type": "code",
   "execution_count": 61,
   "id": "7fba34b9-c718-48ca-8ef8-f206c271804d",
   "metadata": {
    "execution": {
     "iopub.execute_input": "2023-09-20T18:33:20.794912Z",
     "iopub.status.busy": "2023-09-20T18:33:20.794314Z",
     "iopub.status.idle": "2023-09-20T18:33:20.803530Z",
     "shell.execute_reply": "2023-09-20T18:33:20.802872Z",
     "shell.execute_reply.started": "2023-09-20T18:33:20.794888Z"
    }
   },
   "outputs": [
    {
     "data": {
      "text/html": [
       "\n",
       "        <div id=\"7z4XbjEdtyVebxmSRaFzPg\"></div>\n",
       "        <script>netpixi.call('7z4XbjEdtyVebxmSRaFzPg', 'ig5QEvbCZbWR2gxF9RxmEG', 'changeGraph', 'eyJ0eXBlIjogInNldHRpbmdzIiwgInByb3BzIjogeyJ2ZXJ0ZXgiOiB7InNpemUiOiA0LCAiYndpZHRoIjogMX19fQo=');</script>\n",
       "    "
      ],
      "text/plain": [
       "<IPython.core.display.HTML object>"
      ]
     },
     "metadata": {},
     "output_type": "display_data"
    }
   ],
   "source": [
    "r.vertex_default(size=4, bwidth=1)"
   ]
  },
  {
   "cell_type": "code",
   "execution_count": 77,
   "id": "b5ed3937-3325-42f2-8bf0-4077476e0cac",
   "metadata": {
    "execution": {
     "iopub.execute_input": "2023-09-20T18:46:31.621017Z",
     "iopub.status.busy": "2023-09-20T18:46:31.620804Z",
     "iopub.status.idle": "2023-09-20T18:46:31.627565Z",
     "shell.execute_reply": "2023-09-20T18:46:31.627000Z",
     "shell.execute_reply.started": "2023-09-20T18:46:31.621003Z"
    }
   },
   "outputs": [
    {
     "data": {
      "text/plain": [
       "2.8"
      ]
     },
     "execution_count": 77,
     "metadata": {},
     "output_type": "execute_result"
    }
   ],
   "source": [
    "g.density()"
   ]
  },
  {
   "cell_type": "code",
   "execution_count": 78,
   "id": "5da8da64-022b-43e9-ba89-8424d7139725",
   "metadata": {
    "execution": {
     "iopub.execute_input": "2023-09-20T18:46:32.478734Z",
     "iopub.status.busy": "2023-09-20T18:46:32.478488Z",
     "iopub.status.idle": "2023-09-20T18:46:33.339042Z",
     "shell.execute_reply": "2023-09-20T18:46:33.337948Z",
     "shell.execute_reply.started": "2023-09-20T18:46:32.478717Z"
    }
   },
   "outputs": [
    {
     "data": {
      "text/plain": [
       "63.08"
      ]
     },
     "execution_count": 78,
     "metadata": {},
     "output_type": "execute_result"
    }
   ],
   "source": [
    "g.transitivity()"
   ]
  },
  {
   "cell_type": "code",
   "execution_count": 79,
   "id": "3de40cb2-b3a1-47cb-8c9b-e1963a2392e9",
   "metadata": {
    "execution": {
     "iopub.execute_input": "2023-09-20T18:46:34.177653Z",
     "iopub.status.busy": "2023-09-20T18:46:34.177415Z",
     "iopub.status.idle": "2023-09-20T18:46:34.185749Z",
     "shell.execute_reply": "2023-09-20T18:46:34.184989Z",
     "shell.execute_reply.started": "2023-09-20T18:46:34.177638Z"
    }
   },
   "outputs": [],
   "source": [
    "degrees = g.get_total_degrees()"
   ]
  },
  {
   "cell_type": "code",
   "execution_count": 80,
   "id": "e8c39a23-fd29-4a0d-95d9-c5d80570eed8",
   "metadata": {
    "execution": {
     "iopub.execute_input": "2023-09-20T18:46:35.244590Z",
     "iopub.status.busy": "2023-09-20T18:46:35.244283Z",
     "iopub.status.idle": "2023-09-20T18:46:35.264225Z",
     "shell.execute_reply": "2023-09-20T18:46:35.263657Z",
     "shell.execute_reply.started": "2023-09-20T18:46:35.244567Z"
    }
   },
   "outputs": [
    {
     "data": {
      "text/plain": [
       "count     6408.000000\n",
       "mean       179.274657\n",
       "std        723.189201\n",
       "min          1.000000\n",
       "25%         13.000000\n",
       "50%         33.000000\n",
       "75%        102.000000\n",
       "max      16499.000000\n",
       "dtype: float64"
      ]
     },
     "execution_count": 80,
     "metadata": {},
     "output_type": "execute_result"
    }
   ],
   "source": [
    "degrees.describe()"
   ]
  },
  {
   "cell_type": "code",
   "execution_count": 84,
   "id": "db6a3015-0f73-4062-a663-fb740578233f",
   "metadata": {
    "execution": {
     "iopub.execute_input": "2023-09-20T18:47:40.160710Z",
     "iopub.status.busy": "2023-09-20T18:47:40.160473Z",
     "iopub.status.idle": "2023-09-20T18:47:40.295535Z",
     "shell.execute_reply": "2023-09-20T18:47:40.294703Z",
     "shell.execute_reply.started": "2023-09-20T18:47:40.160695Z"
    }
   },
   "outputs": [
    {
     "data": {
      "image/png": "[encoded data removed]",
      "text/plain": [
       "<Figure size 640x480 with 1 Axes>"
      ]
     },
     "metadata": {},
     "output_type": "display_data"
    }
   ],
   "source": [
    "plt.hist(degrees,bins=[0,100, 200, 300, 400, 500, 1000, 1500, 2000]);\n",
    "plt.savefig('hist.png')"
   ]
  },
  {
   "cell_type": "code",
   "execution_count": 85,
   "id": "ea8cf925-0069-4f50-aec9-2f5f86b29ba8",
   "metadata": {
    "execution": {
     "iopub.execute_input": "2023-09-20T18:50:42.095054Z",
     "iopub.status.busy": "2023-09-20T18:50:42.094133Z",
     "iopub.status.idle": "2023-09-20T18:50:42.125422Z",
     "shell.execute_reply": "2023-09-20T18:50:42.124802Z",
     "shell.execute_reply.started": "2023-09-20T18:50:42.095032Z"
    }
   },
   "outputs": [
    {
     "data": {
      "text/plain": [
       "0.0"
      ]
     },
     "execution_count": 85,
     "metadata": {},
     "output_type": "execute_result"
    }
   ],
   "source": [
    "dst.not_normal(degrees)"
   ]
  },
  {
   "cell_type": "code",
   "execution_count": 86,
   "id": "4a15f72f-b892-4b1e-93ed-57b2fc29f6ed",
   "metadata": {
    "execution": {
     "iopub.execute_input": "2023-09-20T18:51:02.407093Z",
     "iopub.status.busy": "2023-09-20T18:51:02.406156Z",
     "iopub.status.idle": "2023-09-20T18:51:02.657626Z",
     "shell.execute_reply": "2023-09-20T18:51:02.656871Z",
     "shell.execute_reply.started": "2023-09-20T18:51:02.407060Z"
    }
   },
   "outputs": [
    {
     "name": "stdout",
     "output_type": "stream",
     "text": [
      "Calculating best minimal value for power law fit\n",
      "xmin progress: 99%\r"
     ]
    },
    {
     "data": {
      "text/plain": [
       "(False, 0.04622734621088012)"
      ]
     },
     "execution_count": 86,
     "metadata": {},
     "output_type": "execute_result"
    }
   ],
   "source": [
    "dst.more_powerlaw_than_lognormal(degrees)"
   ]
  },
  {
   "cell_type": "code",
   "execution_count": 87,
   "id": "5ceae4ac-981b-4ea1-aacf-0910d3b26fc0",
   "metadata": {
    "execution": {
     "iopub.execute_input": "2023-09-20T18:51:25.163867Z",
     "iopub.status.busy": "2023-09-20T18:51:25.163542Z",
     "iopub.status.idle": "2023-09-20T18:51:25.232537Z",
     "shell.execute_reply": "2023-09-20T18:51:25.231932Z",
     "shell.execute_reply.started": "2023-09-20T18:51:25.163851Z"
    }
   },
   "outputs": [
    {
     "name": "stdout",
     "output_type": "stream",
     "text": [
      "Calculating best minimal value for power law fit\n",
      "xmin progress: 99%\r"
     ]
    },
    {
     "data": {
      "text/plain": [
       "(True, 7.312169431430195e-27)"
      ]
     },
     "execution_count": 87,
     "metadata": {},
     "output_type": "execute_result"
    }
   ],
   "source": [
    "dst.more_powerlaw_than_exponential(degrees)"
   ]
  },
  {
   "cell_type": "code",
   "execution_count": 97,
   "id": "c14ba20a-677d-42ff-a640-d9cf8948d46b",
   "metadata": {
    "execution": {
     "iopub.execute_input": "2023-09-20T18:57:31.497854Z",
     "iopub.status.busy": "2023-09-20T18:57:31.496995Z",
     "iopub.status.idle": "2023-09-20T18:57:38.327222Z",
     "shell.execute_reply": "2023-09-20T18:57:38.326396Z",
     "shell.execute_reply.started": "2023-09-20T18:57:31.497829Z"
    }
   },
   "outputs": [],
   "source": [
    "distances = g.get_distances()"
   ]
  },
  {
   "cell_type": "code",
   "execution_count": 98,
   "id": "1c16ed30-c82d-48a0-88b9-ee619fbeceef",
   "metadata": {
    "execution": {
     "iopub.execute_input": "2023-09-20T18:57:38.329728Z",
     "iopub.status.busy": "2023-09-20T18:57:38.329456Z",
     "iopub.status.idle": "2023-09-20T18:57:39.358871Z",
     "shell.execute_reply": "2023-09-20T18:57:39.358031Z",
     "shell.execute_reply.started": "2023-09-20T18:57:38.329709Z"
    }
   },
   "outputs": [
    {
     "data": {
      "text/plain": [
       "count    4.106246e+07\n",
       "mean     2.638019e+00\n",
       "std      5.410575e-01\n",
       "min      0.000000e+00\n",
       "25%      2.000000e+00\n",
       "50%      3.000000e+00\n",
       "75%      3.000000e+00\n",
       "max      5.000000e+00\n",
       "dtype: float64"
      ]
     },
     "execution_count": 98,
     "metadata": {},
     "output_type": "execute_result"
    }
   ],
   "source": [
    "distances.describe()"
   ]
  },
  {
   "cell_type": "code",
   "execution_count": 100,
   "id": "8f262b6b-a5ea-49d6-8304-3fb8cbc370c6",
   "metadata": {
    "execution": {
     "iopub.execute_input": "2023-09-20T18:58:15.023570Z",
     "iopub.status.busy": "2023-09-20T18:58:15.023322Z",
     "iopub.status.idle": "2023-09-20T18:58:15.824742Z",
     "shell.execute_reply": "2023-09-20T18:58:15.823884Z",
     "shell.execute_reply.started": "2023-09-20T18:58:15.023555Z"
    }
   },
   "outputs": [
    {
     "data": {
      "image/png": "[encoded data removed]",
      "text/plain": [
       "<Figure size 640x480 with 1 Axes>"
      ]
     },
     "metadata": {},
     "output_type": "display_data"
    }
   ],
   "source": [
    "plt.hist(distances,bins=[1,2,3,4.5]);\n",
    "plt.savefig('hist_distance.png')"
   ]
  },
  {
   "cell_type": "code",
   "execution_count": null,
   "id": "08bd4f6a-93cb-46d1-ad56-14678fc2e482",
   "metadata": {},
   "outputs": [],
   "source": []
  },
  {
   "cell_type": "code",
   "execution_count": null,
   "id": "f1c8b5d3-b819-437d-8e5e-b226cafe1d7a",
   "metadata": {},
   "outputs": [],
   "source": []
  }
 ],
 "metadata": {
  "kernelspec": {
   "display_name": "Python 3 (ipykernel)",
   "language": "python",
   "name": "python3"
  },
  "language_info": {
   "codemirror_mode": {
    "name": "ipython",
    "version": 3
   },
   "file_extension": ".py",
   "mimetype": "text/x-python",
   "name": "python",
   "nbconvert_exporter": "python",
   "pygments_lexer": "ipython3",
   "version": "3.11.5"
  }
 },
 "nbformat": 4,
 "nbformat_minor": 5
}
