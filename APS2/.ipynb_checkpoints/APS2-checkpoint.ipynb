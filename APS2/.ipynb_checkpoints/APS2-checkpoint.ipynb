{
 "cells": [
  {
   "cell_type": "code",
   "execution_count": 49,
   "id": "9cd1d418-db57-4030-b796-96759291edad",
   "metadata": {
    "execution": {
     "iopub.execute_input": "2023-09-19T14:49:24.193408Z",
     "iopub.status.busy": "2023-09-19T14:49:24.192119Z",
     "iopub.status.idle": "2023-09-19T14:49:24.198096Z",
     "shell.execute_reply": "2023-09-19T14:49:24.196976Z",
     "shell.execute_reply.started": "2023-09-19T14:49:24.193378Z"
    }
   },
   "outputs": [],
   "source": [
    "import graph_tool_extras as gte\n",
    "import netpixi\n",
    "from graph_tool import draw"
   ]
  },
  {
   "cell_type": "code",
   "execution_count": 50,
   "id": "8d72cb02-1748-40bd-99ee-01330aeae422",
   "metadata": {
    "execution": {
     "iopub.execute_input": "2023-09-19T14:49:24.434411Z",
     "iopub.status.busy": "2023-09-19T14:49:24.434111Z",
     "iopub.status.idle": "2023-09-19T14:49:24.439715Z",
     "shell.execute_reply": "2023-09-19T14:49:24.438557Z",
     "shell.execute_reply.started": "2023-09-19T14:49:24.434389Z"
    }
   },
   "outputs": [],
   "source": [
    "PATH = './archive/hero-network.csv'"
   ]
  },
  {
   "cell_type": "code",
   "execution_count": 55,
   "id": "0da503b2-8476-4cd1-bbd7-1797c6e557ff",
   "metadata": {
    "execution": {
     "iopub.execute_input": "2023-09-19T14:50:38.033993Z",
     "iopub.status.busy": "2023-09-19T14:50:38.033666Z",
     "iopub.status.idle": "2023-09-19T14:50:38.047100Z",
     "shell.execute_reply": "2023-09-19T14:50:38.045772Z",
     "shell.execute_reply.started": "2023-09-19T14:50:38.033970Z"
    }
   },
   "outputs": [
    {
     "name": "stdout",
     "output_type": "stream",
     "text": [
      "LITTLE, ABNER PRINCESS ZANDA\n",
      "LITTLE, ABNER BLACK PANTHER/T'CHAL\n",
      "BLACK PANTHER/T'CHAL PRINCESS ZANDA\n",
      "LITTLE, ABNER PRINCESS ZANDA\n",
      "LITTLE, ABNER BLACK PANTHER/T'CHAL\n"
     ]
    }
   ],
   "source": [
    "with open(PATH) as file:\n",
    "\n",
    "    i = 0\n",
    "\n",
    "    # Ignora a primeira linha, pois ela é o cabeçalho.\n",
    "    next(file)\n",
    "\n",
    "    # Lê o arquivo linha por linha, sem carregá-lo inteiro na memória.\n",
    "    for line in file:\n",
    "\n",
    "        # Transforma a linha em uma lista de partes,\n",
    "        # considerando o caractere ',' como separador.\n",
    "        parts = line.split('\",\"')\n",
    "        parts[0] = parts[0][1:]\n",
    "        parts[1] = parts[1][:-2]\n",
    "\n",
    "        # Ignora o primeiro e último caracteres\n",
    "        # de cada parte, para eliminar as aspas.\n",
    "        #parts = [part[1:-1] for part in parts]\n",
    "\n",
    "        # Imprime a data, o mandante e o visitante.\n",
    "        print(parts[0],parts[1])\n",
    "\n",
    "        # Para não sobrecarregar este notebook, vamos usar um contador\n",
    "        # e um break para imprimir apenas as cinco primeiras linhas.\n",
    "        i += 1\n",
    "        if i == 5:\n",
    "            break"
   ]
  },
  {
   "cell_type": "code",
   "execution_count": null,
   "id": "957c90b2-2938-4c40-a761-28c320f92cdd",
   "metadata": {},
   "outputs": [],
   "source": []
  }
 ],
 "metadata": {
  "kernelspec": {
   "display_name": "Python 3 (ipykernel)",
   "language": "python",
   "name": "python3"
  },
  "language_info": {
   "codemirror_mode": {
    "name": "ipython",
    "version": 3
   },
   "file_extension": ".py",
   "mimetype": "text/x-python",
   "name": "python",
   "nbconvert_exporter": "python",
   "pygments_lexer": "ipython3",
   "version": "3.11.5"
  }
 },
 "nbformat": 4,
 "nbformat_minor": 5
}
