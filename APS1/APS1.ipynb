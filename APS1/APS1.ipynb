{
 "cells": [
  {
   "cell_type": "code",
   "execution_count": 55,
   "id": "5147beef-8e22-48e1-8e99-178e6397c740",
   "metadata": {
    "execution": {
     "iopub.execute_input": "2023-08-20T22:56:19.545884Z",
     "iopub.status.busy": "2023-08-20T22:56:19.545119Z",
     "iopub.status.idle": "2023-08-20T22:56:19.549420Z",
     "shell.execute_reply": "2023-08-20T22:56:19.548446Z",
     "shell.execute_reply.started": "2023-08-20T22:56:19.545839Z"
    }
   },
   "outputs": [],
   "source": [
    "import graph_tool_extras as gte\n",
    "import netpixi\n",
    "from graph_tool import draw"
   ]
  },
  {
   "cell_type": "code",
   "execution_count": 56,
   "id": "1a60cdb0-5148-4480-b90f-f91e9e2533f6",
   "metadata": {
    "execution": {
     "iopub.execute_input": "2023-08-20T22:56:20.095305Z",
     "iopub.status.busy": "2023-08-20T22:56:20.095068Z",
     "iopub.status.idle": "2023-08-20T22:56:20.099342Z",
     "shell.execute_reply": "2023-08-20T22:56:20.098437Z",
     "shell.execute_reply.started": "2023-08-20T22:56:20.095288Z"
    }
   },
   "outputs": [],
   "source": [
    "PATH = './email.edgelist.txt'"
   ]
  },
  {
   "cell_type": "code",
   "execution_count": 57,
   "id": "589ef716-ad8b-47b3-b131-d85e9d967c83",
   "metadata": {
    "execution": {
     "iopub.execute_input": "2023-08-20T22:56:20.647218Z",
     "iopub.status.busy": "2023-08-20T22:56:20.646936Z",
     "iopub.status.idle": "2023-08-20T22:57:13.286183Z",
     "shell.execute_reply": "2023-08-20T22:57:13.285274Z",
     "shell.execute_reply.started": "2023-08-20T22:56:20.647196Z"
    }
   },
   "outputs": [],
   "source": [
    "with open(PATH) as file:\n",
    "    g = gte.Graph(directed=True)\n",
    "\n",
    "    # Para não sobrecarregar este notebook, vamos usar um contador\n",
    "    # e um break para imprimir apenas as cinco primeiras linhas.\n",
    "    i = 0\n",
    "\n",
    "    # Ignora a primeira linha, pois ela é o cabeçalho.\n",
    "    next(file)\n",
    "    distinct  = []\n",
    "\n",
    "    # Lê o arquivo linha por linha, sem carregá-lo inteiro na memória.\n",
    "    for line in file:\n",
    "        #print(line)\n",
    "\n",
    "        # Transforma a linha em uma lista de partes,\n",
    "        # considerando o caractere ',' como separador.\n",
    "        parts = line.split('\\t')\n",
    "        parts[1] = parts[1][:-1]\n",
    "        \n",
    "\n",
    "        if parts[0] not in distinct:\n",
    "            distinct.append(parts[0])\n",
    "            g.add_vertex_by_id(parts[0])\n",
    "            \n",
    "        if parts[1] not in distinct:\n",
    "            distinct.append(parts[1])\n",
    "            g.add_vertex_by_id(parts[1])\n",
    "\n",
    "        if parts[0] != parts[1]:\n",
    "            g.add_edge_by_ids(parts[0], parts[1])\n",
    "        \n",
    "            \n",
    "        \n",
    "        # Ignora o primeiro e último caracteres\n",
    "        # de cada parte, para eliminar as aspas.\n",
    "        #parts = [part[1:-1] for part in parts]\n",
    "\n",
    "        # Imprime a data, o mandante e o visitante.\n",
    "        #print(parts[0], parts[1])\n",
    "\n",
    "        # Para não sobrecarregar este notebook, vamos usar um contador\n",
    "        # e um break para imprimir apenas as cinco primeiras linhas.\n"
   ]
  },
  {
   "cell_type": "code",
   "execution_count": 39,
   "id": "40bb56c6-87be-4175-a1f9-3bf3088f95eb",
   "metadata": {
    "execution": {
     "iopub.execute_input": "2023-08-20T22:40:17.451170Z",
     "iopub.status.busy": "2023-08-20T22:40:17.450827Z",
     "iopub.status.idle": "2023-08-20T22:40:17.455704Z",
     "shell.execute_reply": "2023-08-20T22:40:17.454930Z",
     "shell.execute_reply.started": "2023-08-20T22:40:17.451146Z"
    }
   },
   "outputs": [],
   "source": [
    "#for u in g.vertices():\n",
    "#    print(u.id())"
   ]
  },
  {
   "cell_type": "code",
   "execution_count": 58,
   "id": "a015dacc-bc4a-4859-9781-fcbc78b9c290",
   "metadata": {
    "execution": {
     "iopub.execute_input": "2023-08-20T22:57:17.310670Z",
     "iopub.status.busy": "2023-08-20T22:57:17.310426Z",
     "iopub.status.idle": "2023-08-20T22:57:21.740369Z",
     "shell.execute_reply": "2023-08-20T22:57:21.739694Z",
     "shell.execute_reply.started": "2023-08-20T22:57:17.310645Z"
    }
   },
   "outputs": [],
   "source": [
    "gte.save(g, 'email.net.gz')"
   ]
  },
  {
   "cell_type": "code",
   "execution_count": 44,
   "id": "a797c45a-e782-47cb-b050-7ee641f0e114",
   "metadata": {
    "execution": {
     "iopub.execute_input": "2023-08-20T22:42:34.594956Z",
     "iopub.status.busy": "2023-08-20T22:42:34.594607Z",
     "iopub.status.idle": "2023-08-20T22:49:49.376692Z",
     "shell.execute_reply": "2023-08-20T22:49:49.375481Z",
     "shell.execute_reply.started": "2023-08-20T22:42:34.594921Z"
    }
   },
   "outputs": [],
   "source": [
    "#layout = draw.sfdp_layout(g)\n"
   ]
  },
  {
   "cell_type": "code",
   "execution_count": 59,
   "id": "791cc4a3-fc23-49d9-b7f9-0f7f15acd6ba",
   "metadata": {
    "execution": {
     "iopub.execute_input": "2023-08-20T22:57:29.640770Z",
     "iopub.status.busy": "2023-08-20T22:57:29.640538Z",
     "iopub.status.idle": "2023-08-20T22:57:29.813462Z",
     "shell.execute_reply": "2023-08-20T22:57:29.812520Z",
     "shell.execute_reply.started": "2023-08-20T22:57:29.640755Z"
    }
   },
   "outputs": [],
   "source": [
    "g = gte.clean(g)"
   ]
  },
  {
   "cell_type": "code",
   "execution_count": 60,
   "id": "0604fac9-a5b5-4d7a-aaea-de0700f29c01",
   "metadata": {
    "execution": {
     "iopub.execute_input": "2023-08-20T22:57:30.657442Z",
     "iopub.status.busy": "2023-08-20T22:57:30.657202Z",
     "iopub.status.idle": "2023-08-20T22:57:38.005264Z",
     "shell.execute_reply": "2023-08-20T22:57:38.004572Z",
     "shell.execute_reply.started": "2023-08-20T22:57:30.657426Z"
    }
   },
   "outputs": [],
   "source": [
    "gte.move(g, layout)\n",
    "gte.save(g, 'email.net.gz')\n"
   ]
  },
  {
   "cell_type": "code",
   "execution_count": null,
   "id": "33727df2-cdfc-47af-8c4b-be9f241179af",
   "metadata": {},
   "outputs": [],
   "source": []
  },
  {
   "cell_type": "code",
   "execution_count": 63,
   "id": "85f6d351-3681-45cd-b7ee-40f88baed9f8",
   "metadata": {
    "execution": {
     "iopub.execute_input": "2023-08-20T22:59:41.241972Z",
     "iopub.status.busy": "2023-08-20T22:59:41.241211Z",
     "iopub.status.idle": "2023-08-20T22:59:41.247930Z",
     "shell.execute_reply": "2023-08-20T22:59:41.247274Z",
     "shell.execute_reply.started": "2023-08-20T22:59:41.241949Z"
    }
   },
   "outputs": [
    {
     "data": {
      "text/html": [
       "\n",
       "        <div id=\"XAqdMPtAmxMp674Wq5vDis\"></div>\n",
       "        <script>netpixi.render('XAqdMPtAmxMp674Wq5vDis', '/static/email.net.gz', 1.7777777777777777, true, true, false, true);</script>\n",
       "    "
      ],
      "text/plain": [
       "<IPython.core.display.HTML object>"
      ]
     },
     "metadata": {},
     "output_type": "display_data"
    }
   ],
   "source": [
    "r = netpixi.render('email.net.gz', infinite=True)\n"
   ]
  },
  {
   "cell_type": "code",
   "execution_count": 62,
   "id": "7a68f2ba-a9e7-45c7-9d23-ea9186ec0422",
   "metadata": {
    "execution": {
     "iopub.execute_input": "2023-08-20T22:57:50.234696Z",
     "iopub.status.busy": "2023-08-20T22:57:50.234471Z",
     "iopub.status.idle": "2023-08-20T22:57:50.241855Z",
     "shell.execute_reply": "2023-08-20T22:57:50.241222Z",
     "shell.execute_reply.started": "2023-08-20T22:57:50.234680Z"
    }
   },
   "outputs": [
    {
     "data": {
      "text/html": [
       "\n",
       "        <div id=\"Q5EigdFfAATnCMUPx2USp3\"></div>\n",
       "        <script>netpixi.call('Q5EigdFfAATnCMUPx2USp3', 'd25R6aqJk4BpsUMCQsV96a', 'changeGraph', 'eyJ0eXBlIjogInNldHRpbmdzIiwgInByb3BzIjogeyJ2ZXJ0ZXgiOiB7InNpemUiOiA0LCAiYndpZHRoIjogMX19fQo=');</script>\n",
       "    "
      ],
      "text/plain": [
       "<IPython.core.display.HTML object>"
      ]
     },
     "metadata": {},
     "output_type": "display_data"
    },
    {
     "data": {
      "text/html": [
       "\n",
       "        <div id=\"nyCGuaPF8RKfxwfnbdbArU\"></div>\n",
       "        <script>netpixi.call('nyCGuaPF8RKfxwfnbdbArU', 'd25R6aqJk4BpsUMCQsV96a', 'changeGraph', 'eyJ0eXBlIjogInNldHRpbmdzIiwgInByb3BzIjogeyJlZGdlIjogeyJ3aWR0aCI6IDF9fX0K');</script>\n",
       "    "
      ],
      "text/plain": [
       "<IPython.core.display.HTML object>"
      ]
     },
     "metadata": {},
     "output_type": "display_data"
    }
   ],
   "source": []
  },
  {
   "cell_type": "code",
   "execution_count": null,
   "id": "06f48012-1f56-4b35-ac8c-8e47f97fb2f7",
   "metadata": {},
   "outputs": [],
   "source": []
  }
 ],
 "metadata": {
  "kernelspec": {
   "display_name": "Python 3 (ipykernel)",
   "language": "python",
   "name": "python3"
  },
  "language_info": {
   "codemirror_mode": {
    "name": "ipython",
    "version": 3
   },
   "file_extension": ".py",
   "mimetype": "text/x-python",
   "name": "python",
   "nbconvert_exporter": "python",
   "pygments_lexer": "ipython3",
   "version": "3.11.4"
  }
 },
 "nbformat": 4,
 "nbformat_minor": 5
}
