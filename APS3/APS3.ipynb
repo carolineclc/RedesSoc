{
 "cells": [
  {
   "cell_type": "markdown",
   "id": "598c2e3f-df6d-4210-80c4-582899225375",
   "metadata": {},
   "source": [
    "# APS 3 \n",
    "### Caroline Chaim, Rafael Lima, Andre Melo"
   ]
  },
  {
   "cell_type": "markdown",
   "id": "6ec81567-231c-419a-bb8c-ae9846ad0c16",
   "metadata": {},
   "source": [
    "## Imports"
   ]
  },
  {
   "cell_type": "code",
   "execution_count": null,
   "id": "4cdcfd5b-3420-41dc-8abe-92a228fe7a1a",
   "metadata": {},
   "outputs": [],
   "source": [
    "import graph_tool_extras as gte\n",
    "import netpixi\n",
    "from graph_tool import draw\n",
    "import distribution as dst\n",
    "import matplotlib.pyplot as plt\n"
   ]
  },
  {
   "cell_type": "code",
   "execution_count": null,
   "id": "a6d528f3-ef12-4208-a186-3e1be1e0524d",
   "metadata": {},
   "outputs": [],
   "source": [
    "PATH = './archive/chess_games.csv'"
   ]
  },
  {
   "cell_type": "markdown",
   "id": "ac61c533-f026-48e4-8471-77e712e78061",
   "metadata": {},
   "source": [
    "## Funções"
   ]
  },
  {
   "cell_type": "markdown",
   "id": "6dc09e1f-97fb-45b1-838f-521bc7ea1663",
   "metadata": {},
   "source": [
    "##### Funcao de get_or_add_vertix tem como principal objecitvo adiconar vertices no grafo sem carregar na memoria."
   ]
  },
  {
   "cell_type": "code",
   "execution_count": null,
   "id": "47b445a0-9849-4567-8ff9-707766d029de",
   "metadata": {},
   "outputs": [],
   "source": [
    "def get_or_add_vertex(g, id):\n",
    "    u = g.vertex_by_id(id)\n",
    "    if u is None:\n",
    "        g.add_vertex_by_id(id)"
   ]
  },
  {
   "cell_type": "markdown",
   "id": "48468d3a-7037-49db-ba76-c31279a30397",
   "metadata": {},
   "source": [
    "## Leitura do arquivo e montagem do grafo"
   ]
  },
  {
   "cell_type": "code",
   "execution_count": null,
   "id": "c5f4e1c6-ec27-4095-9c27-c45bef3c0ea3",
   "metadata": {},
   "outputs": [],
   "source": [
    "#Usando somente os primeros 200000 jogos.\n",
    "with open(PATH) as file:\n",
    "    g = gte.Graph(directed=False)\n",
    "    i = 0\n",
    "\n",
    "    next(file)\n",
    "\n",
    "    for line in file:\n",
    "\n",
    "\n",
    "        parts = line.split(',')\n",
    "\n",
    "        \n",
    "        #print (parts [1], parts[0])\n",
    "        get_or_add_vertex(g,parts[1])\n",
    "        get_or_add_vertex(g,parts[2])    \n",
    "        g.add_edge_by_ids(parts[1], parts[2])\n",
    "\n",
    "        i += 1\n",
    "        if i == 100000:\n",
    "            break"
   ]
  },
  {
   "cell_type": "markdown",
   "id": "091dcc4c-9a12-4e30-9629-3138aa6186c0",
   "metadata": {},
   "source": [
    "## Calculo de vertices"
   ]
  },
  {
   "cell_type": "code",
   "execution_count": null,
   "id": "405d6e37-f6a4-42b8-8c1d-e6b0da99be12",
   "metadata": {},
   "outputs": [],
   "source": [
    "r=0\n",
    "for u in g.vertices():\n",
    "    r += 1\n",
    "print(r)"
   ]
  },
  {
   "cell_type": "markdown",
   "id": "ec4e2728-905e-4458-a126-1b0fe95fc30c",
   "metadata": {},
   "source": [
    "## Calculo de artesas"
   ]
  },
  {
   "cell_type": "code",
   "execution_count": null,
   "id": "d06babfa-6fd6-4c27-9c3b-e0d3ad1de05d",
   "metadata": {},
   "outputs": [],
   "source": [
    "r=0\n",
    "for u in g.edges():\n",
    "    r += 1\n",
    "print(r)"
   ]
  },
  {
   "cell_type": "markdown",
   "id": "39657d1f-3075-456e-a06d-1c997c468acb",
   "metadata": {},
   "source": [
    "## Limpeza do grafo e criacao do arquivo .gz"
   ]
  },
  {
   "cell_type": "code",
   "execution_count": null,
   "id": "225fcc17-b75d-480e-821b-9a6c4e5b54ab",
   "metadata": {},
   "outputs": [],
   "source": [
    "gte.save(g, 'chess.net.gz')"
   ]
  },
  {
   "cell_type": "code",
   "execution_count": null,
   "id": "04103cac-42c7-4fb8-b0a7-4cf6a2080caf",
   "metadata": {},
   "outputs": [],
   "source": [
    "layout = draw.sfdp_layout(g)"
   ]
  },
  {
   "cell_type": "code",
   "execution_count": null,
   "id": "f7604b13-5304-4ab6-aecd-ea1314029bfc",
   "metadata": {},
   "outputs": [],
   "source": [
    "g = gte.clean(g)"
   ]
  },
  {
   "cell_type": "code",
   "execution_count": null,
   "id": "dab608af-87c4-41d3-91d5-ac5754e4c052",
   "metadata": {},
   "outputs": [],
   "source": [
    "gte.move(g, layout)\n",
    "gte.save(g, 'chess.net.gz')"
   ]
  },
  {
   "cell_type": "markdown",
   "id": "f8571f6d-aac5-4d94-97ac-041df89bee4a",
   "metadata": {},
   "source": [
    "## Visalizacao do grafo"
   ]
  },
  {
   "cell_type": "code",
   "execution_count": null,
   "id": "0624c495-ce09-439f-a317-309c48837168",
   "metadata": {},
   "outputs": [],
   "source": [
    "r = netpixi.render('chess.net.gz', infinite=True)"
   ]
  },
  {
   "cell_type": "markdown",
   "id": "67a052f5-57b8-4c1a-8660-8a60077e46e4",
   "metadata": {},
   "source": [
    "## Modificacoes de artesas e vertices do grafo"
   ]
  },
  {
   "cell_type": "code",
   "execution_count": null,
   "id": "4237f92a-073c-4915-b311-89d88d088034",
   "metadata": {},
   "outputs": [],
   "source": [
    "r.vertex_default(size=4, bwidth=1)\n"
   ]
  },
  {
   "cell_type": "code",
   "execution_count": null,
   "id": "5d5a644f-8a4a-47c9-8a39-25c93035db11",
   "metadata": {},
   "outputs": [],
   "source": [
    "r.edge_default(width=1)"
   ]
  },
  {
   "cell_type": "markdown",
   "id": "698d0f3f-dd41-4e17-a2f1-0a0c544c0d60",
   "metadata": {},
   "source": [
    "## Calculo de desidade e trasitividade"
   ]
  },
  {
   "cell_type": "code",
   "execution_count": null,
   "id": "24a084cb-8798-460f-8ebf-d87291c49bc1",
   "metadata": {},
   "outputs": [],
   "source": [
    "g.density()"
   ]
  },
  {
   "cell_type": "code",
   "execution_count": null,
   "id": "4ca75e8d-9af7-43f8-ab9b-4b8e33955243",
   "metadata": {},
   "outputs": [],
   "source": [
    "g.transitivity()"
   ]
  },
  {
   "cell_type": "markdown",
   "id": "cceb710a-12f4-4af7-8b8b-a8e086849afd",
   "metadata": {},
   "source": [
    "## Distribuicao de Degrees"
   ]
  },
  {
   "cell_type": "code",
   "execution_count": null,
   "id": "8ef85c17-d681-4a45-add3-a7ab27170a36",
   "metadata": {},
   "outputs": [],
   "source": [
    "degrees = g.get_total_degrees()"
   ]
  },
  {
   "cell_type": "code",
   "execution_count": null,
   "id": "c2618cc2-4ef4-42c1-a428-3f4eed78c4bd",
   "metadata": {},
   "outputs": [],
   "source": [
    "degrees.describe()"
   ]
  },
  {
   "cell_type": "code",
   "execution_count": null,
   "id": "62de5666-622d-4e1a-9342-28eec825bf10",
   "metadata": {},
   "outputs": [],
   "source": [
    "plt.hist(degrees,bins=[0,10,20,30,40,50,60,70,80,90,100]);\n",
    "plt.savefig('hist.png')"
   ]
  },
  {
   "cell_type": "code",
   "execution_count": null,
   "id": "d74b2bc9-2afb-4c7d-83ad-40f861a88744",
   "metadata": {},
   "outputs": [],
   "source": [
    "dst.not_normal(degrees)"
   ]
  },
  {
   "cell_type": "code",
   "execution_count": null,
   "id": "30d3357f-2689-4bf7-8417-2923cc60676f",
   "metadata": {},
   "outputs": [],
   "source": [
    "dst.more_powerlaw_than_lognormal(degrees)"
   ]
  },
  {
   "cell_type": "code",
   "execution_count": null,
   "id": "72350e1f-fb3e-4b85-b97b-23cc715d3e00",
   "metadata": {},
   "outputs": [],
   "source": [
    "dst.more_powerlaw_than_exponential(degrees)"
   ]
  },
  {
   "cell_type": "markdown",
   "id": "599b1ff3-1f2b-4261-9359-17f42fc91500",
   "metadata": {},
   "source": [
    "## Distribuicao de distancias"
   ]
  },
  {
   "cell_type": "code",
   "execution_count": null,
   "id": "4c687be6-ec94-4691-a835-82767e58f9c9",
   "metadata": {},
   "outputs": [],
   "source": [
    "g.describe_distances()"
   ]
  },
  {
   "cell_type": "code",
   "execution_count": null,
   "id": "4df5b015-eea9-4dbc-894b-6e1787916887",
   "metadata": {},
   "outputs": [],
   "source": [
    "g.hist_distances()"
   ]
  },
  {
   "cell_type": "code",
   "execution_count": null,
   "id": "5eea9a3b-56a8-44df-8dea-5bd4e7ae690e",
   "metadata": {},
   "outputs": [],
   "source": []
  },
  {
   "cell_type": "code",
   "execution_count": null,
   "id": "04f7697e-149f-45f3-9726-e86a0b25e83a",
   "metadata": {},
   "outputs": [],
   "source": []
  },
  {
   "cell_type": "code",
   "execution_count": null,
   "id": "84aa5ca7-5e37-4519-a0d0-b31b6042262a",
   "metadata": {},
   "outputs": [],
   "source": []
  }
 ],
 "metadata": {
  "kernelspec": {
   "display_name": "Python 3 (ipykernel)",
   "language": "python",
   "name": "python3"
  },
  "language_info": {
   "codemirror_mode": {
    "name": "ipython",
    "version": 3
   },
   "file_extension": ".py",
   "mimetype": "text/x-python",
   "name": "python",
   "nbconvert_exporter": "python",
   "pygments_lexer": "ipython3",
   "version": "3.11.5"
  }
 },
 "nbformat": 4,
 "nbformat_minor": 5
}
