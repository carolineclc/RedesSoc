{
 "cells": [
  {
   "cell_type": "markdown",
   "id": "598c2e3f-df6d-4210-80c4-582899225375",
   "metadata": {},
   "source": [
    "# APS 3 \n",
    "### Caroline Chaim, Rafael Lima, Andre Melo"
   ]
  },
  {
   "cell_type": "markdown",
   "id": "6ec81567-231c-419a-bb8c-ae9846ad0c16",
   "metadata": {},
   "source": [
    "## Imports"
   ]
  },
  {
   "cell_type": "code",
   "execution_count": 1,
   "id": "4cdcfd5b-3420-41dc-8abe-92a228fe7a1a",
   "metadata": {
    "execution": {
     "iopub.execute_input": "2023-10-06T20:13:46.423849Z",
     "iopub.status.busy": "2023-10-06T20:13:46.423557Z",
     "iopub.status.idle": "2023-10-06T20:13:50.176468Z",
     "shell.execute_reply": "2023-10-06T20:13:50.175853Z",
     "shell.execute_reply.started": "2023-10-06T20:13:46.423824Z"
    }
   },
   "outputs": [
    {
     "data": {
      "text/html": [
       "\n",
       "    <script src=\"/static/.hidden/netpixi.min.js\"></script>\n"
      ],
      "text/plain": [
       "<IPython.core.display.HTML object>"
      ]
     },
     "metadata": {},
     "output_type": "display_data"
    }
   ],
   "source": [
    "import graph_tool_extras as gte\n",
    "import netpixi\n",
    "from graph_tool import draw\n",
    "import distribution as dst\n",
    "import matplotlib.pyplot as plt\n"
   ]
  },
  {
   "cell_type": "code",
   "execution_count": 2,
   "id": "a6d528f3-ef12-4208-a186-3e1be1e0524d",
   "metadata": {
    "execution": {
     "iopub.execute_input": "2023-10-06T20:13:50.178068Z",
     "iopub.status.busy": "2023-10-06T20:13:50.177436Z",
     "iopub.status.idle": "2023-10-06T20:13:50.181097Z",
     "shell.execute_reply": "2023-10-06T20:13:50.180330Z",
     "shell.execute_reply.started": "2023-10-06T20:13:50.178048Z"
    }
   },
   "outputs": [],
   "source": [
    "PATH = './archive/chess_games.csv'"
   ]
  },
  {
   "cell_type": "markdown",
   "id": "ac61c533-f026-48e4-8471-77e712e78061",
   "metadata": {},
   "source": [
    "## Funções"
   ]
  },
  {
   "cell_type": "markdown",
   "id": "6dc09e1f-97fb-45b1-838f-521bc7ea1663",
   "metadata": {},
   "source": [
    "##### Funcao de get_or_add_vertix tem como principal objecitvo adiconar vertices no grafo sem carregar na memoria."
   ]
  },
  {
   "cell_type": "code",
   "execution_count": 3,
   "id": "47b445a0-9849-4567-8ff9-707766d029de",
   "metadata": {
    "execution": {
     "iopub.execute_input": "2023-10-06T20:13:50.181680Z",
     "iopub.status.busy": "2023-10-06T20:13:50.181530Z",
     "iopub.status.idle": "2023-10-06T20:13:50.188472Z",
     "shell.execute_reply": "2023-10-06T20:13:50.187673Z",
     "shell.execute_reply.started": "2023-10-06T20:13:50.181667Z"
    }
   },
   "outputs": [],
   "source": [
    "def get_or_add_vertex(g, id):\n",
    "    u = g.vertex_by_id(id)\n",
    "    if u is None:\n",
    "        g.add_vertex_by_id(id)"
   ]
  },
  {
   "cell_type": "markdown",
   "id": "48468d3a-7037-49db-ba76-c31279a30397",
   "metadata": {},
   "source": [
    "## Leitura do arquivo e montagem do grafo"
   ]
  },
  {
   "cell_type": "code",
   "execution_count": 4,
   "id": "c5f4e1c6-ec27-4095-9c27-c45bef3c0ea3",
   "metadata": {
    "execution": {
     "iopub.execute_input": "2023-10-06T20:13:50.190783Z",
     "iopub.status.busy": "2023-10-06T20:13:50.190157Z",
     "iopub.status.idle": "2023-10-06T20:14:03.718187Z",
     "shell.execute_reply": "2023-10-06T20:14:03.717527Z",
     "shell.execute_reply.started": "2023-10-06T20:13:50.190753Z"
    }
   },
   "outputs": [],
   "source": [
    "#Usando somente os primeros 200000 jogos.\n",
    "with open(PATH) as file:\n",
    "    g = gte.Graph(directed=False)\n",
    "    i = 0\n",
    "\n",
    "    next(file)\n",
    "\n",
    "    for line in file:\n",
    "\n",
    "\n",
    "        parts = line.split(',')\n",
    "\n",
    "        \n",
    "        #print (parts [1], parts[0])\n",
    "\n",
    "        if parts[4] == \"2016.07.01\":\n",
    "            \n",
    "        \n",
    "            get_or_add_vertex(g,parts[1])\n",
    "            get_or_add_vertex(g,parts[2])    \n",
    "            g.add_edge_by_ids(parts[1], parts[2])\n",
    "\n",
    "\n",
    "        i += 1\n",
    "        #print(parts[4])\n",
    "    \n",
    "        #if i == 5000:\n",
    "        if i == 350000:\n",
    "            break\n"
   ]
  },
  {
   "cell_type": "markdown",
   "id": "091dcc4c-9a12-4e30-9629-3138aa6186c0",
   "metadata": {},
   "source": [
    "## Calculo de vertices"
   ]
  },
  {
   "cell_type": "code",
   "execution_count": 5,
   "id": "405d6e37-f6a4-42b8-8c1d-e6b0da99be12",
   "metadata": {
    "execution": {
     "iopub.execute_input": "2023-10-06T20:14:03.719049Z",
     "iopub.status.busy": "2023-10-06T20:14:03.718840Z",
     "iopub.status.idle": "2023-10-06T20:14:03.778524Z",
     "shell.execute_reply": "2023-10-06T20:14:03.777761Z",
     "shell.execute_reply.started": "2023-10-06T20:14:03.719030Z"
    }
   },
   "outputs": [
    {
     "name": "stdout",
     "output_type": "stream",
     "text": [
      "40285\n"
     ]
    }
   ],
   "source": [
    "r=0\n",
    "for u in g.vertices():\n",
    "    r += 1\n",
    "print(r)"
   ]
  },
  {
   "cell_type": "markdown",
   "id": "ec4e2728-905e-4458-a126-1b0fe95fc30c",
   "metadata": {},
   "source": [
    "## Calculo de artesas"
   ]
  },
  {
   "cell_type": "code",
   "execution_count": 6,
   "id": "d06babfa-6fd6-4c27-9c3b-e0d3ad1de05d",
   "metadata": {
    "execution": {
     "iopub.execute_input": "2023-10-06T20:14:03.779470Z",
     "iopub.status.busy": "2023-10-06T20:14:03.779290Z",
     "iopub.status.idle": "2023-10-06T20:14:04.019573Z",
     "shell.execute_reply": "2023-10-06T20:14:04.018753Z",
     "shell.execute_reply.started": "2023-10-06T20:14:03.779454Z"
    }
   },
   "outputs": [
    {
     "name": "stdout",
     "output_type": "stream",
     "text": [
      "198207\n"
     ]
    }
   ],
   "source": [
    "r=0\n",
    "for u in g.edges():\n",
    "    r += 1\n",
    "print(r)"
   ]
  },
  {
   "cell_type": "markdown",
   "id": "39657d1f-3075-456e-a06d-1c997c468acb",
   "metadata": {},
   "source": [
    "## Limpeza do grafo e criacao do arquivo .gz"
   ]
  },
  {
   "cell_type": "code",
   "execution_count": 7,
   "id": "225fcc17-b75d-480e-821b-9a6c4e5b54ab",
   "metadata": {
    "execution": {
     "iopub.execute_input": "2023-10-06T20:14:04.021648Z",
     "iopub.status.busy": "2023-10-06T20:14:04.020504Z",
     "iopub.status.idle": "2023-10-06T20:14:11.559281Z",
     "shell.execute_reply": "2023-10-06T20:14:11.558258Z",
     "shell.execute_reply.started": "2023-10-06T20:14:04.021626Z"
    }
   },
   "outputs": [],
   "source": [
    "gte.save(g, 'chess.net.gz')"
   ]
  },
  {
   "cell_type": "code",
   "execution_count": 8,
   "id": "04103cac-42c7-4fb8-b0a7-4cf6a2080caf",
   "metadata": {
    "execution": {
     "iopub.execute_input": "2023-10-06T20:14:11.560661Z",
     "iopub.status.busy": "2023-10-06T20:14:11.560471Z",
     "iopub.status.idle": "2023-10-06T20:16:57.932998Z",
     "shell.execute_reply": "2023-10-06T20:16:57.931844Z",
     "shell.execute_reply.started": "2023-10-06T20:14:11.560644Z"
    }
   },
   "outputs": [],
   "source": [
    "layout = draw.sfdp_layout(g)"
   ]
  },
  {
   "cell_type": "code",
   "execution_count": 9,
   "id": "f7604b13-5304-4ab6-aecd-ea1314029bfc",
   "metadata": {
    "execution": {
     "iopub.execute_input": "2023-10-06T20:16:57.934794Z",
     "iopub.status.busy": "2023-10-06T20:16:57.934575Z",
     "iopub.status.idle": "2023-10-06T20:16:58.076742Z",
     "shell.execute_reply": "2023-10-06T20:16:58.075970Z",
     "shell.execute_reply.started": "2023-10-06T20:16:57.934776Z"
    }
   },
   "outputs": [],
   "source": [
    "g = gte.clean(g)"
   ]
  },
  {
   "cell_type": "code",
   "execution_count": 10,
   "id": "dab608af-87c4-41d3-91d5-ac5754e4c052",
   "metadata": {
    "execution": {
     "iopub.execute_input": "2023-10-06T20:16:58.079644Z",
     "iopub.status.busy": "2023-10-06T20:16:58.079440Z",
     "iopub.status.idle": "2023-10-06T20:17:07.519153Z",
     "shell.execute_reply": "2023-10-06T20:17:07.518313Z",
     "shell.execute_reply.started": "2023-10-06T20:16:58.079629Z"
    }
   },
   "outputs": [],
   "source": [
    "gte.move(g, layout)\n",
    "gte.save(g, 'chess.net.gz')"
   ]
  },
  {
   "cell_type": "markdown",
   "id": "f8571f6d-aac5-4d94-97ac-041df89bee4a",
   "metadata": {},
   "source": [
    "## Visalizacao do grafo"
   ]
  },
  {
   "cell_type": "code",
   "execution_count": 11,
   "id": "0624c495-ce09-439f-a317-309c48837168",
   "metadata": {
    "execution": {
     "iopub.execute_input": "2023-10-06T20:17:07.520335Z",
     "iopub.status.busy": "2023-10-06T20:17:07.520168Z",
     "iopub.status.idle": "2023-10-06T20:17:07.529235Z",
     "shell.execute_reply": "2023-10-06T20:17:07.528428Z",
     "shell.execute_reply.started": "2023-10-06T20:17:07.520322Z"
    }
   },
   "outputs": [
    {
     "data": {
      "text/html": [
       "\n",
       "        <div id=\"Yw5KakR6CcQwkfgf9pVDWZ\"></div>\n",
       "        <script>netpixi.render('Yw5KakR6CcQwkfgf9pVDWZ', '/static/__shared__/APS3/chess.net.gz', 1.7777777777777777, true, true, false, true);</script>\n",
       "    "
      ],
      "text/plain": [
       "<IPython.core.display.HTML object>"
      ]
     },
     "metadata": {},
     "output_type": "display_data"
    }
   ],
   "source": [
    "r = netpixi.render('chess.net.gz', infinite=True)"
   ]
  },
  {
   "cell_type": "markdown",
   "id": "67a052f5-57b8-4c1a-8660-8a60077e46e4",
   "metadata": {},
   "source": [
    "## Modificacoes de artesas e vertices do grafo"
   ]
  },
  {
   "cell_type": "code",
   "execution_count": 24,
   "id": "4237f92a-073c-4915-b311-89d88d088034",
   "metadata": {
    "execution": {
     "iopub.execute_input": "2023-10-06T20:34:37.031418Z",
     "iopub.status.busy": "2023-10-06T20:34:37.031171Z",
     "iopub.status.idle": "2023-10-06T20:34:37.042898Z",
     "shell.execute_reply": "2023-10-06T20:34:37.042250Z",
     "shell.execute_reply.started": "2023-10-06T20:34:37.031400Z"
    }
   },
   "outputs": [
    {
     "data": {
      "text/html": [
       "\n",
       "        <div id=\"jr53CAdgL9i8mhqo9qjHth\"></div>\n",
       "        <script>netpixi.call('jr53CAdgL9i8mhqo9qjHth', 'Yw5KakR6CcQwkfgf9pVDWZ', 'changeGraph', 'eyJ0eXBlIjogInNldHRpbmdzIiwgInByb3BzIjogeyJ2ZXJ0ZXgiOiB7InNpemUiOiA0LCAiYndpZHRoIjogMX19fQo=');</script>\n",
       "    "
      ],
      "text/plain": [
       "<IPython.core.display.HTML object>"
      ]
     },
     "metadata": {},
     "output_type": "display_data"
    }
   ],
   "source": [
    "r.vertex_default(size=4, bwidth=1)\n"
   ]
  },
  {
   "cell_type": "code",
   "execution_count": 25,
   "id": "5d5a644f-8a4a-47c9-8a39-25c93035db11",
   "metadata": {
    "execution": {
     "iopub.execute_input": "2023-10-06T20:34:37.043961Z",
     "iopub.status.busy": "2023-10-06T20:34:37.043790Z",
     "iopub.status.idle": "2023-10-06T20:34:37.050218Z",
     "shell.execute_reply": "2023-10-06T20:34:37.049278Z",
     "shell.execute_reply.started": "2023-10-06T20:34:37.043946Z"
    }
   },
   "outputs": [
    {
     "data": {
      "text/html": [
       "\n",
       "        <div id=\"GLQD5ywzNWhbTYNSS9JPzr\"></div>\n",
       "        <script>netpixi.call('GLQD5ywzNWhbTYNSS9JPzr', 'Yw5KakR6CcQwkfgf9pVDWZ', 'changeGraph', 'eyJ0eXBlIjogInNldHRpbmdzIiwgInByb3BzIjogeyJlZGdlIjogeyJ3aWR0aCI6IDF9fX0K');</script>\n",
       "    "
      ],
      "text/plain": [
       "<IPython.core.display.HTML object>"
      ]
     },
     "metadata": {},
     "output_type": "display_data"
    }
   ],
   "source": [
    "r.edge_default(width=1)"
   ]
  },
  {
   "cell_type": "markdown",
   "id": "698d0f3f-dd41-4e17-a2f1-0a0c544c0d60",
   "metadata": {},
   "source": [
    "## Calculo de desidade e trasitividade"
   ]
  },
  {
   "cell_type": "code",
   "execution_count": 14,
   "id": "24a084cb-8798-460f-8ebf-d87291c49bc1",
   "metadata": {
    "execution": {
     "iopub.execute_input": "2023-10-06T20:17:07.547430Z",
     "iopub.status.busy": "2023-10-06T20:17:07.547267Z",
     "iopub.status.idle": "2023-10-06T20:17:07.554348Z",
     "shell.execute_reply": "2023-10-06T20:17:07.553710Z",
     "shell.execute_reply.started": "2023-10-06T20:17:07.547418Z"
    }
   },
   "outputs": [
    {
     "data": {
      "text/plain": [
       "0.025262"
      ]
     },
     "execution_count": 14,
     "metadata": {},
     "output_type": "execute_result"
    }
   ],
   "source": [
    "g.density()"
   ]
  },
  {
   "cell_type": "code",
   "execution_count": 15,
   "id": "4ca75e8d-9af7-43f8-ab9b-4b8e33955243",
   "metadata": {
    "execution": {
     "iopub.execute_input": "2023-10-06T20:17:07.555312Z",
     "iopub.status.busy": "2023-10-06T20:17:07.555141Z",
     "iopub.status.idle": "2023-10-06T20:17:07.596202Z",
     "shell.execute_reply": "2023-10-06T20:17:07.595327Z",
     "shell.execute_reply.started": "2023-10-06T20:17:07.555299Z"
    }
   },
   "outputs": [
    {
     "data": {
      "text/plain": [
       "3.627944"
      ]
     },
     "execution_count": 15,
     "metadata": {},
     "output_type": "execute_result"
    }
   ],
   "source": [
    "g.transitivity()"
   ]
  },
  {
   "cell_type": "markdown",
   "id": "cceb710a-12f4-4af7-8b8b-a8e086849afd",
   "metadata": {},
   "source": [
    "## Distribuicao de Degrees"
   ]
  },
  {
   "cell_type": "code",
   "execution_count": 16,
   "id": "8ef85c17-d681-4a45-add3-a7ab27170a36",
   "metadata": {
    "execution": {
     "iopub.execute_input": "2023-10-06T20:17:07.597896Z",
     "iopub.status.busy": "2023-10-06T20:17:07.597111Z",
     "iopub.status.idle": "2023-10-06T20:17:07.614155Z",
     "shell.execute_reply": "2023-10-06T20:17:07.612999Z",
     "shell.execute_reply.started": "2023-10-06T20:17:07.597876Z"
    }
   },
   "outputs": [],
   "source": [
    "degrees = g.get_total_degrees()"
   ]
  },
  {
   "cell_type": "code",
   "execution_count": 17,
   "id": "c2618cc2-4ef4-42c1-a428-3f4eed78c4bd",
   "metadata": {
    "execution": {
     "iopub.execute_input": "2023-10-06T20:17:07.615457Z",
     "iopub.status.busy": "2023-10-06T20:17:07.615241Z",
     "iopub.status.idle": "2023-10-06T20:17:07.633591Z",
     "shell.execute_reply": "2023-10-06T20:17:07.633013Z",
     "shell.execute_reply.started": "2023-10-06T20:17:07.615440Z"
    }
   },
   "outputs": [
    {
     "data": {
      "text/plain": [
       "count    39546.000000\n",
       "mean         9.989733\n",
       "std         14.900676\n",
       "min          1.000000\n",
       "25%          2.000000\n",
       "50%          5.000000\n",
       "75%         12.000000\n",
       "max        348.000000\n",
       "dtype: float64"
      ]
     },
     "execution_count": 17,
     "metadata": {},
     "output_type": "execute_result"
    }
   ],
   "source": [
    "degrees.describe()"
   ]
  },
  {
   "cell_type": "code",
   "execution_count": 18,
   "id": "62de5666-622d-4e1a-9342-28eec825bf10",
   "metadata": {
    "execution": {
     "iopub.execute_input": "2023-10-06T20:17:07.634674Z",
     "iopub.status.busy": "2023-10-06T20:17:07.634500Z",
     "iopub.status.idle": "2023-10-06T20:17:07.813309Z",
     "shell.execute_reply": "2023-10-06T20:17:07.812473Z",
     "shell.execute_reply.started": "2023-10-06T20:17:07.634659Z"
    }
   },
   "outputs": [
    {
     "data": {
      "image/png": "[encoded data removed]",
      "text/plain": [
       "<Figure size 640x480 with 1 Axes>"
      ]
     },
     "metadata": {},
     "output_type": "display_data"
    }
   ],
   "source": [
    "plt.hist(degrees,bins=[0,10,20,30,40,50,60,70,80,90,100]);\n",
    "plt.savefig('hist.png')"
   ]
  },
  {
   "cell_type": "code",
   "execution_count": 19,
   "id": "d74b2bc9-2afb-4c7d-83ad-40f861a88744",
   "metadata": {
    "execution": {
     "iopub.execute_input": "2023-10-06T20:17:07.814116Z",
     "iopub.status.busy": "2023-10-06T20:17:07.813952Z",
     "iopub.status.idle": "2023-10-06T20:17:07.823854Z",
     "shell.execute_reply": "2023-10-06T20:17:07.822783Z",
     "shell.execute_reply.started": "2023-10-06T20:17:07.814102Z"
    }
   },
   "outputs": [
    {
     "data": {
      "text/plain": [
       "0.0"
      ]
     },
     "execution_count": 19,
     "metadata": {},
     "output_type": "execute_result"
    }
   ],
   "source": [
    "dst.not_normal(degrees)"
   ]
  },
  {
   "cell_type": "code",
   "execution_count": 20,
   "id": "30d3357f-2689-4bf7-8417-2923cc60676f",
   "metadata": {
    "execution": {
     "iopub.execute_input": "2023-10-06T20:17:07.824766Z",
     "iopub.status.busy": "2023-10-06T20:17:07.824592Z",
     "iopub.status.idle": "2023-10-06T20:17:07.931155Z",
     "shell.execute_reply": "2023-10-06T20:17:07.930503Z",
     "shell.execute_reply.started": "2023-10-06T20:17:07.824752Z"
    }
   },
   "outputs": [
    {
     "name": "stdout",
     "output_type": "stream",
     "text": [
      "Calculating best minimal value for power law fit\n",
      "xmin progress: 99%\r"
     ]
    },
    {
     "data": {
      "text/plain": [
       "(False, 0.04384674828264698)"
      ]
     },
     "execution_count": 20,
     "metadata": {},
     "output_type": "execute_result"
    }
   ],
   "source": [
    "dst.more_powerlaw_than_lognormal(degrees)"
   ]
  },
  {
   "cell_type": "code",
   "execution_count": 21,
   "id": "72350e1f-fb3e-4b85-b97b-23cc715d3e00",
   "metadata": {
    "execution": {
     "iopub.execute_input": "2023-10-06T20:17:07.932393Z",
     "iopub.status.busy": "2023-10-06T20:17:07.931992Z",
     "iopub.status.idle": "2023-10-06T20:17:07.966927Z",
     "shell.execute_reply": "2023-10-06T20:17:07.966034Z",
     "shell.execute_reply.started": "2023-10-06T20:17:07.932374Z"
    }
   },
   "outputs": [
    {
     "name": "stdout",
     "output_type": "stream",
     "text": [
      "Calculating best minimal value for power law fit\n",
      "xmin progress: 99%\r"
     ]
    },
    {
     "data": {
      "text/plain": [
       "(True, 0.0018002613025117173)"
      ]
     },
     "execution_count": 21,
     "metadata": {},
     "output_type": "execute_result"
    }
   ],
   "source": [
    "dst.more_powerlaw_than_exponential(degrees)"
   ]
  },
  {
   "cell_type": "markdown",
   "id": "599b1ff3-1f2b-4261-9359-17f42fc91500",
   "metadata": {},
   "source": [
    "## Distribuicao de distancias"
   ]
  },
  {
   "cell_type": "code",
   "execution_count": 22,
   "id": "4c687be6-ec94-4691-a835-82767e58f9c9",
   "metadata": {
    "execution": {
     "iopub.execute_input": "2023-10-06T20:17:07.968386Z",
     "iopub.status.busy": "2023-10-06T20:17:07.968007Z",
     "iopub.status.idle": "2023-10-06T20:33:50.663449Z",
     "shell.execute_reply": "2023-10-06T20:33:50.658789Z",
     "shell.execute_reply.started": "2023-10-06T20:17:07.968360Z"
    }
   },
   "outputs": [
    {
     "data": {
      "text/plain": [
       "count    1.563886e+09\n",
       "mean     5.434439e+00\n",
       "std      1.110129e+00\n",
       "min      0.000000e+00\n",
       "max      1.300000e+01\n",
       "dtype: float64"
      ]
     },
     "execution_count": 22,
     "metadata": {},
     "output_type": "execute_result"
    }
   ],
   "source": [
    "g.describe_distances()"
   ]
  },
  {
   "cell_type": "code",
   "execution_count": 23,
   "id": "4df5b015-eea9-4dbc-894b-6e1787916887",
   "metadata": {
    "execution": {
     "iopub.execute_input": "2023-10-06T20:33:50.683615Z",
     "iopub.status.busy": "2023-10-06T20:33:50.681466Z",
     "iopub.status.idle": "2023-10-06T20:34:37.021511Z",
     "shell.execute_reply": "2023-10-06T20:34:37.020555Z",
     "shell.execute_reply.started": "2023-10-06T20:33:50.683525Z"
    }
   },
   "outputs": [
    {
     "data": {
      "image/png": "[encoded data removed]",
      "text/plain": [
       "<Figure size 640x480 with 1 Axes>"
      ]
     },
     "metadata": {},
     "output_type": "display_data"
    }
   ],
   "source": [
    "g.hist_distances()"
   ]
  },
  {
   "cell_type": "code",
   "execution_count": null,
   "id": "5eea9a3b-56a8-44df-8dea-5bd4e7ae690e",
   "metadata": {},
   "outputs": [],
   "source": []
  },
  {
   "cell_type": "code",
   "execution_count": null,
   "id": "04f7697e-149f-45f3-9726-e86a0b25e83a",
   "metadata": {},
   "outputs": [],
   "source": []
  },
  {
   "cell_type": "code",
   "execution_count": null,
   "id": "84aa5ca7-5e37-4519-a0d0-b31b6042262a",
   "metadata": {},
   "outputs": [],
   "source": []
  }
 ],
 "metadata": {
  "kernelspec": {
   "display_name": "Python 3 (ipykernel)",
   "language": "python",
   "name": "python3"
  },
  "language_info": {
   "codemirror_mode": {
    "name": "ipython",
    "version": 3
   },
   "file_extension": ".py",
   "mimetype": "text/x-python",
   "name": "python",
   "nbconvert_exporter": "python",
   "pygments_lexer": "ipython3",
   "version": "3.11.5"
  }
 },
 "nbformat": 4,
 "nbformat_minor": 5
}
