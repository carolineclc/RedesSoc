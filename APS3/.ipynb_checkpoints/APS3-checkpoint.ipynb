{
 "cells": [
  {
   "cell_type": "markdown",
   "id": "598c2e3f-df6d-4210-80c4-582899225375",
   "metadata": {},
   "source": [
    "# APS 3 \n",
    "### Caroline Chaim, Rafael Lima, Andre Melo"
   ]
  },
  {
   "cell_type": "markdown",
   "id": "6ec81567-231c-419a-bb8c-ae9846ad0c16",
   "metadata": {},
   "source": [
    "## Imports"
   ]
  },
  {
   "cell_type": "code",
   "execution_count": 25,
   "id": "4cdcfd5b-3420-41dc-8abe-92a228fe7a1a",
   "metadata": {
    "execution": {
     "iopub.execute_input": "2023-10-05T18:40:52.077450Z",
     "iopub.status.busy": "2023-10-05T18:40:52.076972Z",
     "iopub.status.idle": "2023-10-05T18:40:52.081232Z",
     "shell.execute_reply": "2023-10-05T18:40:52.080429Z",
     "shell.execute_reply.started": "2023-10-05T18:40:52.077425Z"
    }
   },
   "outputs": [],
   "source": [
    "import graph_tool_extras as gte\n",
    "import netpixi\n",
    "from graph_tool import draw\n",
    "import distribution as dst\n",
    "import matplotlib.pyplot as plt\n"
   ]
  },
  {
   "cell_type": "code",
   "execution_count": 26,
   "id": "a6d528f3-ef12-4208-a186-3e1be1e0524d",
   "metadata": {
    "execution": {
     "iopub.execute_input": "2023-10-05T18:40:52.317149Z",
     "iopub.status.busy": "2023-10-05T18:40:52.316856Z",
     "iopub.status.idle": "2023-10-05T18:40:52.320414Z",
     "shell.execute_reply": "2023-10-05T18:40:52.319740Z",
     "shell.execute_reply.started": "2023-10-05T18:40:52.317131Z"
    }
   },
   "outputs": [],
   "source": [
    "PATH = './archive/chess_games.csv'"
   ]
  },
  {
   "cell_type": "markdown",
   "id": "ac61c533-f026-48e4-8471-77e712e78061",
   "metadata": {},
   "source": [
    "## Funções"
   ]
  },
  {
   "cell_type": "markdown",
   "id": "6dc09e1f-97fb-45b1-838f-521bc7ea1663",
   "metadata": {},
   "source": [
    "##### Funcao de get_or_add_vertix tem como principal objecitvo adiconar vertices no grafo sem carregar na memoria."
   ]
  },
  {
   "cell_type": "code",
   "execution_count": 27,
   "id": "47b445a0-9849-4567-8ff9-707766d029de",
   "metadata": {
    "execution": {
     "iopub.execute_input": "2023-10-05T18:40:53.019448Z",
     "iopub.status.busy": "2023-10-05T18:40:53.018876Z",
     "iopub.status.idle": "2023-10-05T18:40:53.023206Z",
     "shell.execute_reply": "2023-10-05T18:40:53.022344Z",
     "shell.execute_reply.started": "2023-10-05T18:40:53.019425Z"
    }
   },
   "outputs": [],
   "source": [
    "def get_or_add_vertex(g, id):\n",
    "    u = g.vertex_by_id(id)\n",
    "    if u is None:\n",
    "        g.add_vertex_by_id(id)"
   ]
  },
  {
   "cell_type": "markdown",
   "id": "48468d3a-7037-49db-ba76-c31279a30397",
   "metadata": {},
   "source": [
    "## Leitura do arquivo e montagem do grafo"
   ]
  },
  {
   "cell_type": "code",
   "execution_count": 28,
   "id": "c5f4e1c6-ec27-4095-9c27-c45bef3c0ea3",
   "metadata": {
    "execution": {
     "iopub.execute_input": "2023-10-05T18:40:53.443830Z",
     "iopub.status.busy": "2023-10-05T18:40:53.443572Z",
     "iopub.status.idle": "2023-10-05T18:40:57.329327Z",
     "shell.execute_reply": "2023-10-05T18:40:57.328674Z",
     "shell.execute_reply.started": "2023-10-05T18:40:53.443814Z"
    }
   },
   "outputs": [],
   "source": [
    "#Usando somente os primeros 200000 jogos.\n",
    "with open(PATH) as file:\n",
    "    g = gte.Graph(directed=False)\n",
    "    i = 0\n",
    "\n",
    "    next(file)\n",
    "\n",
    "    for line in file:\n",
    "\n",
    "\n",
    "        parts = line.split(',')\n",
    "\n",
    "        \n",
    "        #print (parts [1], parts[0])\n",
    "        get_or_add_vertex(g,parts[1])\n",
    "        get_or_add_vertex(g,parts[2])    \n",
    "        g.add_edge_by_ids(parts[1], parts[2])\n",
    "\n",
    "        i += 1\n",
    "        if i == 100000:\n",
    "            break"
   ]
  },
  {
   "cell_type": "markdown",
   "id": "091dcc4c-9a12-4e30-9629-3138aa6186c0",
   "metadata": {},
   "source": [
    "## Calculo de vertices"
   ]
  },
  {
   "cell_type": "code",
   "execution_count": 29,
   "id": "405d6e37-f6a4-42b8-8c1d-e6b0da99be12",
   "metadata": {
    "execution": {
     "iopub.execute_input": "2023-10-05T18:40:57.979719Z",
     "iopub.status.busy": "2023-10-05T18:40:57.979103Z",
     "iopub.status.idle": "2023-10-05T18:40:58.020360Z",
     "shell.execute_reply": "2023-10-05T18:40:58.019718Z",
     "shell.execute_reply.started": "2023-10-05T18:40:57.979699Z"
    }
   },
   "outputs": [
    {
     "name": "stdout",
     "output_type": "stream",
     "text": [
      "28179\n"
     ]
    }
   ],
   "source": [
    "r=0\n",
    "for u in g.vertices():\n",
    "    r += 1\n",
    "print(r)"
   ]
  },
  {
   "cell_type": "markdown",
   "id": "ec4e2728-905e-4458-a126-1b0fe95fc30c",
   "metadata": {},
   "source": [
    "## Calculo de artesas"
   ]
  },
  {
   "cell_type": "code",
   "execution_count": 30,
   "id": "d06babfa-6fd6-4c27-9c3b-e0d3ad1de05d",
   "metadata": {
    "execution": {
     "iopub.execute_input": "2023-10-05T18:40:59.268577Z",
     "iopub.status.busy": "2023-10-05T18:40:59.268117Z",
     "iopub.status.idle": "2023-10-05T18:40:59.391002Z",
     "shell.execute_reply": "2023-10-05T18:40:59.390230Z",
     "shell.execute_reply.started": "2023-10-05T18:40:59.268559Z"
    }
   },
   "outputs": [
    {
     "name": "stdout",
     "output_type": "stream",
     "text": [
      "100000\n"
     ]
    }
   ],
   "source": [
    "r=0\n",
    "for u in g.edges():\n",
    "    r += 1\n",
    "print(r)"
   ]
  },
  {
   "cell_type": "markdown",
   "id": "39657d1f-3075-456e-a06d-1c997c468acb",
   "metadata": {},
   "source": [
    "## Limpeza do grafo e criacao do arquivo .gz"
   ]
  },
  {
   "cell_type": "code",
   "execution_count": 31,
   "id": "225fcc17-b75d-480e-821b-9a6c4e5b54ab",
   "metadata": {
    "execution": {
     "iopub.execute_input": "2023-10-05T18:41:00.158797Z",
     "iopub.status.busy": "2023-10-05T18:41:00.158156Z",
     "iopub.status.idle": "2023-10-05T18:41:03.928122Z",
     "shell.execute_reply": "2023-10-05T18:41:03.927399Z",
     "shell.execute_reply.started": "2023-10-05T18:41:00.158772Z"
    }
   },
   "outputs": [],
   "source": [
    "gte.save(g, 'chess.net.gz')"
   ]
  },
  {
   "cell_type": "code",
   "execution_count": 32,
   "id": "04103cac-42c7-4fb8-b0a7-4cf6a2080caf",
   "metadata": {
    "execution": {
     "iopub.execute_input": "2023-10-05T18:41:03.929213Z",
     "iopub.status.busy": "2023-10-05T18:41:03.929055Z",
     "iopub.status.idle": "2023-10-05T18:43:26.856612Z",
     "shell.execute_reply": "2023-10-05T18:43:26.855944Z",
     "shell.execute_reply.started": "2023-10-05T18:41:03.929200Z"
    }
   },
   "outputs": [],
   "source": [
    "layout = draw.sfdp_layout(g)"
   ]
  },
  {
   "cell_type": "code",
   "execution_count": 33,
   "id": "f7604b13-5304-4ab6-aecd-ea1314029bfc",
   "metadata": {
    "execution": {
     "iopub.execute_input": "2023-10-05T18:43:26.858345Z",
     "iopub.status.busy": "2023-10-05T18:43:26.857505Z",
     "iopub.status.idle": "2023-10-05T18:43:26.945149Z",
     "shell.execute_reply": "2023-10-05T18:43:26.944405Z",
     "shell.execute_reply.started": "2023-10-05T18:43:26.858318Z"
    }
   },
   "outputs": [],
   "source": [
    "g = gte.clean(g)"
   ]
  },
  {
   "cell_type": "code",
   "execution_count": 34,
   "id": "dab608af-87c4-41d3-91d5-ac5754e4c052",
   "metadata": {
    "execution": {
     "iopub.execute_input": "2023-10-05T18:43:26.946693Z",
     "iopub.status.busy": "2023-10-05T18:43:26.946355Z",
     "iopub.status.idle": "2023-10-05T18:43:31.115969Z",
     "shell.execute_reply": "2023-10-05T18:43:31.115356Z",
     "shell.execute_reply.started": "2023-10-05T18:43:26.946677Z"
    }
   },
   "outputs": [],
   "source": [
    "gte.move(g, layout)\n",
    "gte.save(g, 'chess.net.gz')"
   ]
  },
  {
   "cell_type": "markdown",
   "id": "f8571f6d-aac5-4d94-97ac-041df89bee4a",
   "metadata": {},
   "source": [
    "## Visalizacao do grafo"
   ]
  },
  {
   "cell_type": "code",
   "execution_count": 48,
   "id": "0624c495-ce09-439f-a317-309c48837168",
   "metadata": {
    "execution": {
     "iopub.execute_input": "2023-10-05T18:49:36.044126Z",
     "iopub.status.busy": "2023-10-05T18:49:36.043964Z",
     "iopub.status.idle": "2023-10-05T18:49:36.050528Z",
     "shell.execute_reply": "2023-10-05T18:49:36.049967Z",
     "shell.execute_reply.started": "2023-10-05T18:49:36.044113Z"
    },
    "scrolled": true
   },
   "outputs": [
    {
     "data": {
      "text/html": [
       "\n",
       "        <div id=\"MdCgNdnzH3U9JiPdNDxptZ\"></div>\n",
       "        <script>netpixi.render('MdCgNdnzH3U9JiPdNDxptZ', '/static/__shared__/APS3/chess.net.gz', 1.7777777777777777, true, true, false, true);</script>\n",
       "    "
      ],
      "text/plain": [
       "<IPython.core.display.HTML object>"
      ]
     },
     "metadata": {},
     "output_type": "display_data"
    }
   ],
   "source": [
    "r = netpixi.render('chess.net.gz', infinite=True)"
   ]
  },
  {
   "cell_type": "markdown",
   "id": "67a052f5-57b8-4c1a-8660-8a60077e46e4",
   "metadata": {},
   "source": [
    "## Modificacoes de artesas e vertices do grafo"
   ]
  },
  {
   "cell_type": "code",
   "execution_count": 36,
   "id": "4237f92a-073c-4915-b311-89d88d088034",
   "metadata": {
    "execution": {
     "iopub.execute_input": "2023-10-05T18:43:31.121990Z",
     "iopub.status.busy": "2023-10-05T18:43:31.121880Z",
     "iopub.status.idle": "2023-10-05T18:43:31.137969Z",
     "shell.execute_reply": "2023-10-05T18:43:31.136891Z",
     "shell.execute_reply.started": "2023-10-05T18:43:31.121980Z"
    }
   },
   "outputs": [
    {
     "data": {
      "text/html": [
       "\n",
       "        <div id=\"435hTsynZD3VUEM5gJoVLw\"></div>\n",
       "        <script>netpixi.call('435hTsynZD3VUEM5gJoVLw', 'dtBGdXM9bdAF5WeFrof7CA', 'changeGraph', 'eyJ0eXBlIjogInNldHRpbmdzIiwgInByb3BzIjogeyJ2ZXJ0ZXgiOiB7InNpemUiOiA0LCAiYndpZHRoIjogMX19fQo=');</script>\n",
       "    "
      ],
      "text/plain": [
       "<IPython.core.display.HTML object>"
      ]
     },
     "metadata": {},
     "output_type": "display_data"
    }
   ],
   "source": [
    "r.vertex_default(size=4, bwidth=1)\n"
   ]
  },
  {
   "cell_type": "code",
   "execution_count": 37,
   "id": "5d5a644f-8a4a-47c9-8a39-25c93035db11",
   "metadata": {
    "execution": {
     "iopub.execute_input": "2023-10-05T18:43:31.139309Z",
     "iopub.status.busy": "2023-10-05T18:43:31.139154Z",
     "iopub.status.idle": "2023-10-05T18:43:31.146576Z",
     "shell.execute_reply": "2023-10-05T18:43:31.145911Z",
     "shell.execute_reply.started": "2023-10-05T18:43:31.139296Z"
    }
   },
   "outputs": [
    {
     "data": {
      "text/html": [
       "\n",
       "        <div id=\"JtjAqgDMN6EtP6n323Rqez\"></div>\n",
       "        <script>netpixi.call('JtjAqgDMN6EtP6n323Rqez', 'dtBGdXM9bdAF5WeFrof7CA', 'changeGraph', 'eyJ0eXBlIjogInNldHRpbmdzIiwgInByb3BzIjogeyJlZGdlIjogeyJ3aWR0aCI6IDF9fX0K');</script>\n",
       "    "
      ],
      "text/plain": [
       "<IPython.core.display.HTML object>"
      ]
     },
     "metadata": {},
     "output_type": "display_data"
    }
   ],
   "source": [
    "r.edge_default(width=1)"
   ]
  },
  {
   "cell_type": "markdown",
   "id": "698d0f3f-dd41-4e17-a2f1-0a0c544c0d60",
   "metadata": {},
   "source": [
    "## Calculo de desidade e trasitividade"
   ]
  },
  {
   "cell_type": "code",
   "execution_count": 38,
   "id": "24a084cb-8798-460f-8ebf-d87291c49bc1",
   "metadata": {
    "execution": {
     "iopub.execute_input": "2023-10-05T18:43:31.147422Z",
     "iopub.status.busy": "2023-10-05T18:43:31.147272Z",
     "iopub.status.idle": "2023-10-05T18:43:31.153896Z",
     "shell.execute_reply": "2023-10-05T18:43:31.153332Z",
     "shell.execute_reply.started": "2023-10-05T18:43:31.147410Z"
    }
   },
   "outputs": [
    {
     "data": {
      "text/plain": [
       "0.026662"
      ]
     },
     "execution_count": 38,
     "metadata": {},
     "output_type": "execute_result"
    }
   ],
   "source": [
    "g.density()"
   ]
  },
  {
   "cell_type": "code",
   "execution_count": 39,
   "id": "4ca75e8d-9af7-43f8-ab9b-4b8e33955243",
   "metadata": {
    "execution": {
     "iopub.execute_input": "2023-10-05T18:43:31.154637Z",
     "iopub.status.busy": "2023-10-05T18:43:31.154494Z",
     "iopub.status.idle": "2023-10-05T18:43:31.184918Z",
     "shell.execute_reply": "2023-10-05T18:43:31.183886Z",
     "shell.execute_reply.started": "2023-10-05T18:43:31.154625Z"
    }
   },
   "outputs": [
    {
     "data": {
      "text/plain": [
       "3.952076"
      ]
     },
     "execution_count": 39,
     "metadata": {},
     "output_type": "execute_result"
    }
   ],
   "source": [
    "g.transitivity()"
   ]
  },
  {
   "cell_type": "markdown",
   "id": "cceb710a-12f4-4af7-8b8b-a8e086849afd",
   "metadata": {},
   "source": [
    "## Distribuicao de Degrees"
   ]
  },
  {
   "cell_type": "code",
   "execution_count": 40,
   "id": "8ef85c17-d681-4a45-add3-a7ab27170a36",
   "metadata": {
    "execution": {
     "iopub.execute_input": "2023-10-05T18:43:31.191293Z",
     "iopub.status.busy": "2023-10-05T18:43:31.190405Z",
     "iopub.status.idle": "2023-10-05T18:43:31.197719Z",
     "shell.execute_reply": "2023-10-05T18:43:31.196732Z",
     "shell.execute_reply.started": "2023-10-05T18:43:31.191266Z"
    }
   },
   "outputs": [],
   "source": [
    "degrees = g.get_total_degrees()"
   ]
  },
  {
   "cell_type": "code",
   "execution_count": 41,
   "id": "c2618cc2-4ef4-42c1-a428-3f4eed78c4bd",
   "metadata": {
    "execution": {
     "iopub.execute_input": "2023-10-05T18:43:31.199416Z",
     "iopub.status.busy": "2023-10-05T18:43:31.199186Z",
     "iopub.status.idle": "2023-10-05T18:43:31.217247Z",
     "shell.execute_reply": "2023-10-05T18:43:31.215709Z",
     "shell.execute_reply.started": "2023-10-05T18:43:31.199398Z"
    }
   },
   "outputs": [
    {
     "data": {
      "text/plain": [
       "count    27289.000000\n",
       "mean         7.275606\n",
       "std         10.262111\n",
       "min          1.000000\n",
       "25%          2.000000\n",
       "50%          4.000000\n",
       "75%          9.000000\n",
       "max        220.000000\n",
       "dtype: float64"
      ]
     },
     "execution_count": 41,
     "metadata": {},
     "output_type": "execute_result"
    }
   ],
   "source": [
    "degrees.describe()"
   ]
  },
  {
   "cell_type": "code",
   "execution_count": 42,
   "id": "62de5666-622d-4e1a-9342-28eec825bf10",
   "metadata": {
    "execution": {
     "iopub.execute_input": "2023-10-05T18:43:31.219372Z",
     "iopub.status.busy": "2023-10-05T18:43:31.218777Z",
     "iopub.status.idle": "2023-10-05T18:43:31.347596Z",
     "shell.execute_reply": "2023-10-05T18:43:31.346999Z",
     "shell.execute_reply.started": "2023-10-05T18:43:31.219343Z"
    }
   },
   "outputs": [
    {
     "data": {
      "image/png": "[encoded data removed]",
      "text/plain": [
       "<Figure size 640x480 with 1 Axes>"
      ]
     },
     "metadata": {},
     "output_type": "display_data"
    }
   ],
   "source": [
    "plt.hist(degrees,bins=[0,10,20,30,40,50,60,70,80,90,100]);\n",
    "plt.savefig('hist.png')"
   ]
  },
  {
   "cell_type": "code",
   "execution_count": 43,
   "id": "d74b2bc9-2afb-4c7d-83ad-40f861a88744",
   "metadata": {
    "execution": {
     "iopub.execute_input": "2023-10-05T18:43:31.348749Z",
     "iopub.status.busy": "2023-10-05T18:43:31.348374Z",
     "iopub.status.idle": "2023-10-05T18:43:31.355530Z",
     "shell.execute_reply": "2023-10-05T18:43:31.354925Z",
     "shell.execute_reply.started": "2023-10-05T18:43:31.348730Z"
    }
   },
   "outputs": [
    {
     "data": {
      "text/plain": [
       "0.0"
      ]
     },
     "execution_count": 43,
     "metadata": {},
     "output_type": "execute_result"
    }
   ],
   "source": [
    "dst.not_normal(degrees)"
   ]
  },
  {
   "cell_type": "code",
   "execution_count": 44,
   "id": "30d3357f-2689-4bf7-8417-2923cc60676f",
   "metadata": {
    "execution": {
     "iopub.execute_input": "2023-10-05T18:43:31.356595Z",
     "iopub.status.busy": "2023-10-05T18:43:31.356431Z",
     "iopub.status.idle": "2023-10-05T18:43:31.408104Z",
     "shell.execute_reply": "2023-10-05T18:43:31.407334Z",
     "shell.execute_reply.started": "2023-10-05T18:43:31.356582Z"
    }
   },
   "outputs": [
    {
     "name": "stdout",
     "output_type": "stream",
     "text": [
      "Calculating best minimal value for power law fit\n",
      "xmin progress: 99%\r"
     ]
    },
    {
     "data": {
      "text/plain": [
       "(False, 0.03139882378194253)"
      ]
     },
     "execution_count": 44,
     "metadata": {},
     "output_type": "execute_result"
    }
   ],
   "source": [
    "dst.more_powerlaw_than_lognormal(degrees)"
   ]
  },
  {
   "cell_type": "code",
   "execution_count": 45,
   "id": "72350e1f-fb3e-4b85-b97b-23cc715d3e00",
   "metadata": {
    "execution": {
     "iopub.execute_input": "2023-10-05T18:43:31.409192Z",
     "iopub.status.busy": "2023-10-05T18:43:31.408964Z",
     "iopub.status.idle": "2023-10-05T18:43:31.436902Z",
     "shell.execute_reply": "2023-10-05T18:43:31.435967Z",
     "shell.execute_reply.started": "2023-10-05T18:43:31.409175Z"
    }
   },
   "outputs": [
    {
     "name": "stdout",
     "output_type": "stream",
     "text": [
      "Calculating best minimal value for power law fit\n",
      "xmin progress: 99%\r"
     ]
    },
    {
     "data": {
      "text/plain": [
       "(True, 2.5354919803416607e-05)"
      ]
     },
     "execution_count": 45,
     "metadata": {},
     "output_type": "execute_result"
    }
   ],
   "source": [
    "dst.more_powerlaw_than_exponential(degrees)"
   ]
  },
  {
   "cell_type": "markdown",
   "id": "599b1ff3-1f2b-4261-9359-17f42fc91500",
   "metadata": {},
   "source": [
    "## Distribuicao de distancias"
   ]
  },
  {
   "cell_type": "code",
   "execution_count": 46,
   "id": "4c687be6-ec94-4691-a835-82767e58f9c9",
   "metadata": {
    "execution": {
     "iopub.execute_input": "2023-10-05T18:43:31.437916Z",
     "iopub.status.busy": "2023-10-05T18:43:31.437723Z",
     "iopub.status.idle": "2023-10-05T18:49:23.623542Z",
     "shell.execute_reply": "2023-10-05T18:49:23.622867Z",
     "shell.execute_reply.started": "2023-10-05T18:43:31.437900Z"
    }
   },
   "outputs": [
    {
     "data": {
      "text/plain": [
       "count    7.446895e+08\n",
       "mean     6.096382e+00\n",
       "std      1.311579e+00\n",
       "min      0.000000e+00\n",
       "max      1.700000e+01\n",
       "dtype: float64"
      ]
     },
     "execution_count": 46,
     "metadata": {},
     "output_type": "execute_result"
    }
   ],
   "source": [
    "g.describe_distances()"
   ]
  },
  {
   "cell_type": "code",
   "execution_count": 47,
   "id": "4df5b015-eea9-4dbc-894b-6e1787916887",
   "metadata": {
    "execution": {
     "iopub.execute_input": "2023-10-05T18:49:23.625704Z",
     "iopub.status.busy": "2023-10-05T18:49:23.625192Z",
     "iopub.status.idle": "2023-10-05T18:49:36.042781Z",
     "shell.execute_reply": "2023-10-05T18:49:36.041935Z",
     "shell.execute_reply.started": "2023-10-05T18:49:23.625681Z"
    }
   },
   "outputs": [
    {
     "data": {
      "image/png": "[encoded data removed]",
      "text/plain": [
       "<Figure size 640x480 with 1 Axes>"
      ]
     },
     "metadata": {},
     "output_type": "display_data"
    }
   ],
   "source": [
    "g.hist_distances()"
   ]
  },
  {
   "cell_type": "code",
   "execution_count": null,
   "id": "5eea9a3b-56a8-44df-8dea-5bd4e7ae690e",
   "metadata": {},
   "outputs": [],
   "source": []
  }
 ],
 "metadata": {
  "kernelspec": {
   "display_name": "Python 3 (ipykernel)",
   "language": "python",
   "name": "python3"
  },
  "language_info": {
   "codemirror_mode": {
    "name": "ipython",
    "version": 3
   },
   "file_extension": ".py",
   "mimetype": "text/x-python",
   "name": "python",
   "nbconvert_exporter": "python",
   "pygments_lexer": "ipython3",
   "version": "3.11.5"
  }
 },
 "nbformat": 4,
 "nbformat_minor": 5
}
